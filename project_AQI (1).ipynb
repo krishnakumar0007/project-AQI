{
  "nbformat": 4,
  "nbformat_minor": 0,
  "metadata": {
    "colab": {
      "private_outputs": true,
      "provenance": []
    },
    "kernelspec": {
      "name": "python3",
      "display_name": "Python 3"
    },
    "language_info": {
      "name": "python"
    }
  },
  "cells": [
    {
      "cell_type": "code",
      "execution_count": null,
      "metadata": {
        "id": "cClJfX9zGXmU"
      },
      "outputs": [],
      "source": [
        "import pandas as pd\n",
        "df = pd.read_csv('/content/drive/MyDrive/project/AQI and Lat Long of Countries.csv')\n",
        "df"
      ]
    },
    {
      "cell_type": "code",
      "source": [
        "from sklearn.neighbors import KNeighborsClassifier\n",
        "from sklearn.ensemble import AdaBoostClassifier\n",
        "from sklearn.svm import SVC\n",
        "from sklearn.ensemble import RandomForestClassifier\n",
        "from sklearn.naive_bayes import GaussianNB\n",
        "from sklearn.tree import DecisionTreeClassifier"
      ],
      "metadata": {
        "id": "1QgldJqeAFG1"
      },
      "execution_count": null,
      "outputs": []
    },
    {
      "cell_type": "code",
      "source": [
        "import matplotlib.pyplot as plt\n",
        "import seaborn as sns\n",
        "import warnings\n",
        "warnings.filterwarnings('ignore')"
      ],
      "metadata": {
        "id": "4pcUIM5Wou6F"
      },
      "execution_count": null,
      "outputs": []
    },
    {
      "cell_type": "code",
      "source": [
        "df.isnull().sum()"
      ],
      "metadata": {
        "id": "J_Tk9B_rG4pf"
      },
      "execution_count": null,
      "outputs": []
    },
    {
      "cell_type": "code",
      "source": [
        "df.loc[df.isnull().any(axis=1)]"
      ],
      "metadata": {
        "id": "w1JzY757Kf7t"
      },
      "execution_count": null,
      "outputs": []
    },
    {
      "cell_type": "markdown",
      "source": [
        "dropping the raws corresponding to the empty values in the column \"country\""
      ],
      "metadata": {
        "id": "i_z5YePRP1y1"
      }
    },
    {
      "cell_type": "code",
      "source": [
        "df.dropna(inplace=True)"
      ],
      "metadata": {
        "id": "cdsfMMDXLZFW"
      },
      "execution_count": null,
      "outputs": []
    },
    {
      "cell_type": "code",
      "source": [
        "df"
      ],
      "metadata": {
        "id": "0jWEZoUuLte5"
      },
      "execution_count": null,
      "outputs": []
    },
    {
      "cell_type": "code",
      "source": [
        "df.reset_index(drop=True,inplace=True)\n",
        "df"
      ],
      "metadata": {
        "id": "0E_ZXDYcMdcZ"
      },
      "execution_count": null,
      "outputs": []
    },
    {
      "cell_type": "code",
      "source": [
        "df.isnull().sum()"
      ],
      "metadata": {
        "id": "n18WOubpMx-k"
      },
      "execution_count": null,
      "outputs": []
    },
    {
      "cell_type": "code",
      "source": [
        "df.dtypes"
      ],
      "metadata": {
        "id": "2HfJ2kbuHEhC"
      },
      "execution_count": null,
      "outputs": []
    },
    {
      "cell_type": "code",
      "source": [
        "print(df['AQI Category'].unique())\n",
        "print()\n",
        "print(df['CO AQI Category'].unique())\n",
        "print()\n",
        "print(df['Ozone AQI Category'].unique())\n",
        "print()\n",
        "print(df['NO2 AQI Category'].unique())\n",
        "print()\n",
        "print(df['PM2.5 AQI Category'].unique())"
      ],
      "metadata": {
        "id": "Z4E--q5XJo1n"
      },
      "execution_count": null,
      "outputs": []
    },
    {
      "cell_type": "code",
      "source": [
        "df['AQI Category'] = df['AQI Category'].map({'Good':0,'Moderate':1,'Unhealthy':2,'Very Unhealthy':3,\n",
        " 'Unhealthy for Sensitive Groups':4,'Hazardous':5})\n",
        "df['CO AQI Category'] = df['CO AQI Category'].map({'Good':0,'Moderate':1,'Unhealthy for Sensitive Groups':2})\n",
        "df['Ozone AQI Category'] = df['Ozone AQI Category'].map({'Good':0,'Moderate':1,'Unhealthy':2,'Very Unhealthy':3,\n",
        " 'Unhealthy for Sensitive Groups':4})\n",
        "df['NO2 AQI Category'] = df['NO2 AQI Category'].map({'Good':0,'Moderate':1})\n",
        "df['PM2.5 AQI Category'] = df['PM2.5 AQI Category'].map({'Good':0,'Moderate':1,'Unhealthy':2,'Very Unhealthy':3,\n",
        " 'Unhealthy for Sensitive Groups':4,'Hazardous':5})"
      ],
      "metadata": {
        "id": "1nTOSqo5pcUi"
      },
      "execution_count": null,
      "outputs": []
    },
    {
      "cell_type": "code",
      "source": [
        "df.dtypes"
      ],
      "metadata": {
        "id": "I264NK4_NYOM"
      },
      "execution_count": null,
      "outputs": []
    },
    {
      "cell_type": "code",
      "source": [
        "# from sklearn.preprocessing import LabelEncoder\n",
        "# le = LabelEncoder()\n",
        "# col = ['CO AQI Category','Ozone AQI Category','NO2 AQI Category','PM2.5 AQI Category','AQI Category']\n",
        "# for i in col:\n",
        "#   df[i] = le.fit_transform(df[i])\n"
      ],
      "metadata": {
        "id": "lxvjMXrQPXUv"
      },
      "execution_count": null,
      "outputs": []
    },
    {
      "cell_type": "code",
      "source": [
        "df"
      ],
      "metadata": {
        "id": "inBsD_MqUJra"
      },
      "execution_count": null,
      "outputs": []
    },
    {
      "cell_type": "code",
      "source": [
        "clean = df.loc[(df['CO AQI Category']==0)&(df['Ozone AQI Category']==0)&(df['NO2 AQI Category']==0)&(df['PM2.5 AQI Category']==0)]"
      ],
      "metadata": {
        "id": "Uwex-5bSgBjq"
      },
      "execution_count": null,
      "outputs": []
    },
    {
      "cell_type": "code",
      "source": [
        "c_country = clean['Country'].value_counts(ascending=False).head(5)\n",
        "c_country"
      ],
      "metadata": {
        "id": "gW3as8CkcUdb"
      },
      "execution_count": null,
      "outputs": []
    },
    {
      "cell_type": "code",
      "source": [
        "import numpy as np\n",
        "plt.figure(figsize=(15,7))\n",
        "plt.plot(c_country,data=df)\n",
        "plt.xlabel('countries')\n",
        "plt.ylabel('cities')\n",
        "plt.title('Cleanest countries')\n",
        "plt.show()"
      ],
      "metadata": {
        "id": "NbpOeHdxiFwg"
      },
      "execution_count": null,
      "outputs": []
    },
    {
      "cell_type": "code",
      "source": [
        "dirty = df[(df['AQI Category'])>2]\n",
        "d_country = dirty['Country'].value_counts(ascending=False).head(5)\n",
        "d_country"
      ],
      "metadata": {
        "id": "eSjS7lRZqqXc"
      },
      "execution_count": null,
      "outputs": []
    },
    {
      "cell_type": "code",
      "source": [
        "plt.figure(figsize=(15,7))\n",
        "plt.xlabel('countries')\n",
        "plt.ylabel('cities')\n",
        "plt.title('Dirtiest countries')\n",
        "plt.plot(d_country,data=df)\n",
        "plt.show()"
      ],
      "metadata": {
        "id": "VmKb7dqBrZV_"
      },
      "execution_count": null,
      "outputs": []
    },
    {
      "cell_type": "code",
      "source": [
        "df.drop(['Country','City'],axis=1,inplace=True)"
      ],
      "metadata": {
        "id": "XntXphB7VANJ"
      },
      "execution_count": null,
      "outputs": []
    },
    {
      "cell_type": "code",
      "source": [
        "df"
      ],
      "metadata": {
        "id": "u7lWrEnnVWmH"
      },
      "execution_count": null,
      "outputs": []
    },
    {
      "cell_type": "code",
      "source": [
        "X = df.drop('AQI Category',axis=1)"
      ],
      "metadata": {
        "id": "t6o8xHZVYWoa"
      },
      "execution_count": null,
      "outputs": []
    },
    {
      "cell_type": "code",
      "source": [
        "X"
      ],
      "metadata": {
        "id": "xAP8uHpIYoM7"
      },
      "execution_count": null,
      "outputs": []
    },
    {
      "cell_type": "code",
      "source": [
        "y = df['AQI Category']\n",
        "y"
      ],
      "metadata": {
        "id": "6P7V_CiKVbGX"
      },
      "execution_count": null,
      "outputs": []
    },
    {
      "cell_type": "code",
      "source": [
        "from sklearn.preprocessing import StandardScaler\n",
        "scaler = StandardScaler()\n",
        "X_scaled = scaler.fit_transform(X)\n",
        "X_scaled"
      ],
      "metadata": {
        "id": "hK_h9i9pY42a"
      },
      "execution_count": null,
      "outputs": []
    },
    {
      "cell_type": "code",
      "source": [
        "from sklearn.model_selection import train_test_split\n",
        "X_train,X_test,y_train,y_test = train_test_split(X_scaled,y,test_size=0.3,random_state=1)"
      ],
      "metadata": {
        "id": "hGEPiqVFZUX6"
      },
      "execution_count": null,
      "outputs": []
    },
    {
      "cell_type": "code",
      "source": [
        "knn = KNeighborsClassifier()\n",
        "abc = AdaBoostClassifier()\n",
        "sv = SVC()\n",
        "rfc = RandomForestClassifier()\n",
        "gnb = GaussianNB()\n",
        "dtc = DecisionTreeClassifier()"
      ],
      "metadata": {
        "id": "fFRZIGRZZwXT"
      },
      "execution_count": null,
      "outputs": []
    },
    {
      "cell_type": "code",
      "source": [
        "from sklearn.metrics import accuracy_score,classification_report,ConfusionMatrixDisplay"
      ],
      "metadata": {
        "id": "JBvfjhaQZyuk"
      },
      "execution_count": null,
      "outputs": []
    },
    {
      "cell_type": "code",
      "source": [
        "import seaborn as sns\n",
        "import matplotlib.pyplot as plt"
      ],
      "metadata": {
        "id": "2_udfZDL1_Ch"
      },
      "execution_count": null,
      "outputs": []
    },
    {
      "cell_type": "code",
      "source": [
        "lis = [knn,sv,rfc,gnb,abc,dtc]\n",
        "for i in lis:\n",
        "  print('**************',i,'*****************')\n",
        "  i.fit(X_train,y_train)\n",
        "  y_pred = i.predict(X_test)\n",
        "  print(accuracy_score(y_test,y_pred)*100)\n",
        "  print(classification_report(y_test,y_pred))\n",
        "  ConfusionMatrixDisplay.from_predictions(y_test,y_pred)"
      ],
      "metadata": {
        "id": "qshZzxR3Z01M"
      },
      "execution_count": null,
      "outputs": []
    },
    {
      "cell_type": "code",
      "source": [
        "df['AQI Category'].value_counts()"
      ],
      "metadata": {
        "id": "Ij1iTn1uaiPZ"
      },
      "execution_count": null,
      "outputs": []
    },
    {
      "cell_type": "markdown",
      "source": [
        "# OVER SAMPLING"
      ],
      "metadata": {
        "id": "nKKHaKaceEdi"
      }
    },
    {
      "cell_type": "code",
      "source": [
        "from imblearn.over_sampling import SMOTE\n",
        "oversample = SMOTE(random_state=1)\n",
        "X_os,y_os = oversample.fit_resample(X,y)"
      ],
      "metadata": {
        "id": "ZTSXj96GdY6g"
      },
      "execution_count": null,
      "outputs": []
    },
    {
      "cell_type": "code",
      "source": [
        "y_os.value_counts()"
      ],
      "metadata": {
        "id": "iTAPwo-gfgU7"
      },
      "execution_count": null,
      "outputs": []
    },
    {
      "cell_type": "markdown",
      "source": [
        "scaling over_sampling data"
      ],
      "metadata": {
        "id": "0xOWh8h_gPQx"
      }
    },
    {
      "cell_type": "code",
      "source": [
        "scaler_os = StandardScaler()\n",
        "X_scaled_os= scaler_os.fit_transform(X_os)\n",
        "X_scaled_os"
      ],
      "metadata": {
        "id": "j_kDRrzifnSC"
      },
      "execution_count": null,
      "outputs": []
    },
    {
      "cell_type": "code",
      "source": [
        "X_train_os,X_test_os,y_train_os,y_test_os = train_test_split(X_scaled_os,y_os,test_size=0.3,random_state=1)"
      ],
      "metadata": {
        "id": "f1bpGRyUg0hO"
      },
      "execution_count": null,
      "outputs": []
    },
    {
      "cell_type": "code",
      "source": [
        "knn_os = KNeighborsClassifier()\n",
        "abc_os = AdaBoostClassifier()\n",
        "sv_os = SVC()\n",
        "rfc_os = RandomForestClassifier()\n",
        "gnb_os = GaussianNB()\n"
      ],
      "metadata": {
        "id": "FMCJlX1mhfF7"
      },
      "execution_count": null,
      "outputs": []
    },
    {
      "cell_type": "code",
      "source": [
        "lis = [knn_os,sv_os,rfc_os,gnb_os,abc_os]\n",
        "for i in lis:\n",
        "  print('**************',i,'*****************')\n",
        "  i.fit(X_train_os,y_train_os)\n",
        "  y_pred_os = i.predict(X_test_os)\n",
        "  print(accuracy_score(y_test_os,y_pred_os)*100)"
      ],
      "metadata": {
        "id": "z6FLsJd5h9yS"
      },
      "execution_count": null,
      "outputs": []
    },
    {
      "cell_type": "code",
      "source": [
        "x = ['knn_os','sv_os','rfc_os','gnb_os','abc_os']\n",
        "y = [99.90387459331559,\n",
        "99.78556640047323,\n",
        "100.0,\n",
        "88.0508725229222,\n",
        "49.571132800946465]\n",
        "plt.bar(x,y,color='g',linewidth=10)\n",
        "plt.show()"
      ],
      "metadata": {
        "id": "yClvWZ4N2K-2"
      },
      "execution_count": null,
      "outputs": []
    },
    {
      "cell_type": "markdown",
      "source": [
        "# Under sampling"
      ],
      "metadata": {
        "id": "ddg4QxkDZS8l"
      }
    },
    {
      "cell_type": "code",
      "source": [
        "df['AQI Category'].value_counts()"
      ],
      "metadata": {
        "id": "ivcgnAluXq1r"
      },
      "execution_count": null,
      "outputs": []
    },
    {
      "cell_type": "code",
      "source": [
        "X = df.drop('AQI Category',axis=1)\n"
      ],
      "metadata": {
        "id": "XoLizYSiVFss"
      },
      "execution_count": null,
      "outputs": []
    },
    {
      "cell_type": "code",
      "source": [
        "y = y = df['AQI Category']\n"
      ],
      "metadata": {
        "id": "6RuCL0apUvD3"
      },
      "execution_count": null,
      "outputs": []
    },
    {
      "cell_type": "code",
      "source": [
        "from imblearn.under_sampling import RandomUnderSampler\n",
        "undersampler = RandomUnderSampler(random_state=2)\n",
        "X_us,y_us = undersampler.fit_resample(X,y)"
      ],
      "metadata": {
        "id": "8m44kvW_iizo"
      },
      "execution_count": null,
      "outputs": []
    },
    {
      "cell_type": "code",
      "source": [
        "y_us.value_counts()"
      ],
      "metadata": {
        "id": "RoTprW9YXdRu"
      },
      "execution_count": null,
      "outputs": []
    },
    {
      "cell_type": "code",
      "source": [
        "scaler_us = StandardScaler()\n",
        "X_scaled_us = scaler_us.fit_transform(X_us)\n",
        "X_scaled_us"
      ],
      "metadata": {
        "id": "ridBHoABjV-E"
      },
      "execution_count": null,
      "outputs": []
    },
    {
      "cell_type": "code",
      "source": [
        "X_train_us,X_test_us,y_train_us,y_test_us = train_test_split(X_scaled_us,y_us,test_size=0.3,random_state=1)"
      ],
      "metadata": {
        "id": "geiu-qUXkGix"
      },
      "execution_count": null,
      "outputs": []
    },
    {
      "cell_type": "code",
      "source": [
        "knn_us = KNeighborsClassifier()\n",
        "abc_us = AdaBoostClassifier()\n",
        "sv_us = SVC()\n",
        "rfc_us = RandomForestClassifier()\n",
        "gnb_us = GaussianNB()"
      ],
      "metadata": {
        "id": "3Mkjao6Nkfol"
      },
      "execution_count": null,
      "outputs": []
    },
    {
      "cell_type": "code",
      "source": [
        "lis = [knn_us,sv_us,rfc_us,gnb_us,abc_us]\n",
        "for i in lis:\n",
        "  print('**************',i,'*****************')\n",
        "  i.fit(X_train_us,y_train_us)\n",
        "  y_pred_us = i.predict(X_test_us)\n",
        "  print(accuracy_score(y_test_us,y_pred_us)*100)"
      ],
      "metadata": {
        "id": "4G4kan57ku9J"
      },
      "execution_count": null,
      "outputs": []
    },
    {
      "cell_type": "code",
      "source": [
        "x = ['knn_us','sv_us','rfc_us','gnb_us','abc_us']\n",
        "y = [85.71428571428571,\n",
        "94.64285714285714,\n",
        "100.0,\n",
        "89.28571428571429,\n",
        "46.42857142857143]\n",
        "plt.bar(x,y,color='b',linewidth=10)\n",
        "plt.show()"
      ],
      "metadata": {
        "id": "w6eyIhs27MaE"
      },
      "execution_count": null,
      "outputs": []
    },
    {
      "cell_type": "markdown",
      "source": [
        "CO-RELATION\n",
        "filter methord of feature selection technique"
      ],
      "metadata": {
        "id": "D3gP3jTUQe_S"
      }
    },
    {
      "cell_type": "code",
      "source": [
        "df.corr()"
      ],
      "metadata": {
        "id": "OYDRNfktpatz"
      },
      "execution_count": null,
      "outputs": []
    },
    {
      "cell_type": "code",
      "source": [
        "df.dtypes"
      ],
      "metadata": {
        "id": "m1moDIBJth4K"
      },
      "execution_count": null,
      "outputs": []
    },
    {
      "cell_type": "code",
      "source": [
        "import seaborn as sns\n",
        "plt.figure(figsize=(10,10))\n",
        "sns.heatmap(df.corr())"
      ],
      "metadata": {
        "id": "qcPgLHDctksV"
      },
      "execution_count": null,
      "outputs": []
    },
    {
      "cell_type": "code",
      "source": [
        "df1 = df.drop(['CO AQI Category','NO2 AQI Category','lat','lng'],axis=1)"
      ],
      "metadata": {
        "id": "UMHR117WuD56"
      },
      "execution_count": null,
      "outputs": []
    },
    {
      "cell_type": "code",
      "source": [
        "df1"
      ],
      "metadata": {
        "id": "OyuYXinNuntk"
      },
      "execution_count": null,
      "outputs": []
    },
    {
      "cell_type": "code",
      "source": [
        "X_co = df1.drop('AQI Category',axis=1)\n",
        "X_co"
      ],
      "metadata": {
        "id": "H76IChZVvNNU"
      },
      "execution_count": null,
      "outputs": []
    },
    {
      "cell_type": "code",
      "source": [
        "y_co = df1['AQI Category']\n",
        "y_co"
      ],
      "metadata": {
        "id": "vi1sYu1Wvqgx"
      },
      "execution_count": null,
      "outputs": []
    },
    {
      "cell_type": "code",
      "source": [
        "scaler_co = StandardScaler()\n",
        "X_scaled_co = scaler_co.fit_transform(X_co)\n",
        "X_scaled_co"
      ],
      "metadata": {
        "id": "psjFFMJ_wK6e"
      },
      "execution_count": null,
      "outputs": []
    },
    {
      "cell_type": "code",
      "source": [
        "X_train_co,X_test_co,y_train_co,y_test_co = train_test_split(X_scaled_co,y_co,test_size=0.3,random_state=1)"
      ],
      "metadata": {
        "id": "JTJuJ909w1-a"
      },
      "execution_count": null,
      "outputs": []
    },
    {
      "cell_type": "code",
      "source": [
        "knn_co = KNeighborsClassifier()\n",
        "abc_co = AdaBoostClassifier()\n",
        "sv_co = SVC()\n",
        "rfc_co = RandomForestClassifier()\n",
        "gnb_co = GaussianNB()\n",
        "dtc_co = DecisionTreeClassifier()"
      ],
      "metadata": {
        "id": "9HM4sfRoxVYw"
      },
      "execution_count": null,
      "outputs": []
    },
    {
      "cell_type": "code",
      "source": [
        "lis = [knn_co,sv_co,rfc_co,gnb_co,abc_co,dtc_co]\n",
        "for i in lis:\n",
        "  print('**************',i,'*****************')\n",
        "  i.fit(X_train_co,y_train_co)\n",
        "  y_pred_co = i.predict(X_test_co)\n",
        "  print(accuracy_score(y_test_co,y_pred_co)*100)"
      ],
      "metadata": {
        "id": "oMuPlIYQxwFu"
      },
      "execution_count": null,
      "outputs": []
    },
    {
      "cell_type": "markdown",
      "source": [
        "# RECURSIVE FEATURE ELIMINATION\n",
        "wrapping methord of feature selection technique"
      ],
      "metadata": {
        "id": "CSs33ccMjJrR"
      }
    },
    {
      "cell_type": "code",
      "source": [
        "X_rfe = df.drop('AQI Category',axis=1)\n",
        "X_rfe"
      ],
      "metadata": {
        "id": "6rISUTg_J3dJ"
      },
      "execution_count": null,
      "outputs": []
    },
    {
      "cell_type": "code",
      "source": [
        "y_rfe = df['AQI Category']\n",
        "y_rfe"
      ],
      "metadata": {
        "id": "ONFQq0XoldhC"
      },
      "execution_count": null,
      "outputs": []
    },
    {
      "cell_type": "code",
      "source": [
        "scaler_rfe = StandardScaler()\n",
        "X_scaled_rfe = scaler_rfe.fit_transform(X_rfe)\n",
        "X_scaled_rfe"
      ],
      "metadata": {
        "id": "SWSYIVxpl_LQ"
      },
      "execution_count": null,
      "outputs": []
    },
    {
      "cell_type": "code",
      "source": [
        "X_train_rfe,X_test_rfe,y_train_rfe,y_test_rfe = train_test_split(X_scaled_rfe,y_rfe,test_size=0.3,random_state=1)"
      ],
      "metadata": {
        "id": "HWn4ETU0lou1"
      },
      "execution_count": null,
      "outputs": []
    },
    {
      "cell_type": "code",
      "source": [
        "from sklearn.tree import DecisionTreeClassifier\n",
        "dtc_rfe = DecisionTreeClassifier()"
      ],
      "metadata": {
        "id": "wKLtR2_Emfkz"
      },
      "execution_count": null,
      "outputs": []
    },
    {
      "cell_type": "code",
      "source": [
        "from sklearn.feature_selection import RFE\n",
        "rfe = RFE(estimator=dtc_rfe,n_features_to_select=5,step=1)\n",
        "rfe.fit(X_train_rfe,y_train_rfe)"
      ],
      "metadata": {
        "id": "PB8BaI7ynVs0"
      },
      "execution_count": null,
      "outputs": []
    },
    {
      "cell_type": "code",
      "source": [
        "y_pred_rfe = rfe.predict(X_test_rfe)\n",
        "y_pred_rfe"
      ],
      "metadata": {
        "id": "JdxlFP5yoYA9"
      },
      "execution_count": null,
      "outputs": []
    },
    {
      "cell_type": "code",
      "source": [
        "print(classification_report(y_test_rfe,y_pred_rfe))"
      ],
      "metadata": {
        "id": "cuBQ5T1iotwG"
      },
      "execution_count": null,
      "outputs": []
    },
    {
      "cell_type": "code",
      "source": [
        "feature_ranking = rfe.ranking_\n",
        "selected_features = rfe.support_"
      ],
      "metadata": {
        "id": "KG5y5nVfYaSl"
      },
      "execution_count": null,
      "outputs": []
    },
    {
      "cell_type": "code",
      "source": [
        "print('feature_ranking:',rfe.ranking_)\n",
        "print('selected_features:',rfe.support_)"
      ],
      "metadata": {
        "id": "zlhinHaLatUQ"
      },
      "execution_count": null,
      "outputs": []
    },
    {
      "cell_type": "markdown",
      "source": [
        "distribution of features"
      ],
      "metadata": {
        "id": "aTOrtNp5RiYp"
      }
    },
    {
      "cell_type": "code",
      "source": [
        "sns.countplot(x='CO AQI Category',data=df)"
      ],
      "metadata": {
        "id": "_2f-9yYp-4v9"
      },
      "execution_count": null,
      "outputs": []
    },
    {
      "cell_type": "code",
      "source": [
        "sns.countplot(x='Ozone AQI Category',data=df)"
      ],
      "metadata": {
        "id": "Lt_Q5FlC_DVr"
      },
      "execution_count": null,
      "outputs": []
    },
    {
      "cell_type": "code",
      "source": [
        "sns.countplot(x='NO2 AQI Category',data=df)"
      ],
      "metadata": {
        "id": "3nsEXiwM_cyT"
      },
      "execution_count": null,
      "outputs": []
    },
    {
      "cell_type": "code",
      "source": [
        "sns.countplot(x='PM2.5 AQI Category',data=df)"
      ],
      "metadata": {
        "id": "TwBP0Y1o_t-7"
      },
      "execution_count": null,
      "outputs": []
    },
    {
      "cell_type": "markdown",
      "source": [
        "# HYPER PARAMETER TUNING"
      ],
      "metadata": {
        "id": "a6w8LhL4uQYj"
      }
    },
    {
      "cell_type": "code",
      "source": [
        "from sklearn.model_selection import GridSearchCV\n",
        "knn1 = KNeighborsClassifier()\n",
        "parameter = {'n_neighbors':[5,7,9,11,13],\n",
        "             'weights':['uniform','distance'],\n",
        "             'algorithm':['auto','ball_tree','kd_tree','brute']}\n",
        "gs = GridSearchCV(knn1,parameter,cv=10,scoring='accuracy')\n",
        "gs.fit(X_train,y_train)"
      ],
      "metadata": {
        "id": "EkUsFYzbuQDg"
      },
      "execution_count": null,
      "outputs": []
    },
    {
      "cell_type": "code",
      "source": [
        "print(gs.best_params_)"
      ],
      "metadata": {
        "id": "-gO09OVUu3Be"
      },
      "execution_count": null,
      "outputs": []
    },
    {
      "cell_type": "code",
      "source": [
        "knn_new = KNeighborsClassifier(algorithm= 'auto', n_neighbors= 5, weights= 'distance')\n",
        "knn_new.fit(X_train,y_train)\n",
        "y_pred_new = knn_new.predict(X_test)\n",
        "y_pred_new"
      ],
      "metadata": {
        "id": "iDWlfDOY0HXA"
      },
      "execution_count": null,
      "outputs": []
    },
    {
      "cell_type": "code",
      "source": [
        "print(classification_report(y_test,y_pred_new))"
      ],
      "metadata": {
        "id": "uWhwRnvr0UnW"
      },
      "execution_count": null,
      "outputs": []
    },
    {
      "cell_type": "code",
      "source": [
        "plt.figure(figsize=(14,7))\n",
        "sns.scatterplot(x=\"lng\",y=\"lat\",data=df,hue='AQI Category')\n",
        "plt.title(\"Geographic distribution of cities\")"
      ],
      "metadata": {
        "id": "DgIMS7hFaH5F"
      },
      "execution_count": null,
      "outputs": []
    },
    {
      "cell_type": "code",
      "source": [
        "sns.countplot(x='AQI Category',data=df)"
      ],
      "metadata": {
        "id": "ObM2re13S00P"
      },
      "execution_count": null,
      "outputs": []
    },
    {
      "cell_type": "code",
      "source": [
        "y_new = knn_us.predict(scaler.fit_transform([[41,1,0,5,0,1,0,41,0,-5.2900,-44.4900]]))\n",
        "if(y_new==0):\n",
        "  print('good')\n",
        "elif(y_new==1):\n",
        "  print('Moderate')\n",
        "elif(y_new==2):\n",
        "  print('Unhealthy')\n",
        "elif(y_new==3):\n",
        "  print('Unhealthy for Sensitive Groups')\n",
        "elif(y_new==4):\n",
        "  print('Unhealthy for Sensitive Groups')\n",
        "elif(y_new==5):\n",
        "  print('Hazardous')\n"
      ],
      "metadata": {
        "id": "F3u5istlDy4H"
      },
      "execution_count": null,
      "outputs": []
    },
    {
      "cell_type": "code",
      "source": [
        "y_new = rfc_us.predict(scaler_rfe.fit_transform([[41,1,0,5,0,1,0,41,0,-5.2900,-44.4900]]))\n",
        "if(y_new==0):\n",
        "  print('good')\n",
        "elif(y_new==1):\n",
        "  print('Moderate')\n",
        "elif(y_new==2):\n",
        "  print('Unhealthy')\n",
        "elif(y_new==3):\n",
        "  print('Unhealthy for Sensitive Groups')\n",
        "elif(y_new==4):\n",
        "  print('Unhealthy for Sensitive Groups')\n",
        "elif(y_new==5):\n",
        "  print('Hazardous')"
      ],
      "metadata": {
        "id": "-m2qSSjXFxkg"
      },
      "execution_count": null,
      "outputs": []
    },
    {
      "cell_type": "code",
      "source": [
        "# 'Good':0,'Moderate':1,'Unhealthy':2,'Very Unhealthy':3,\n",
        "#  'Unhealthy for Sensitive Groups':4,'Hazardous':5"
      ],
      "metadata": {
        "id": "qL_MfyQTFB48"
      },
      "execution_count": null,
      "outputs": []
    },
    {
      "cell_type": "code",
      "source": [
        "import joblib"
      ],
      "metadata": {
        "id": "1n5zUuW4V-Ty"
      },
      "execution_count": null,
      "outputs": []
    },
    {
      "cell_type": "code",
      "source": [
        "filename='model.pkl'"
      ],
      "metadata": {
        "id": "SScmT0mKXTAP"
      },
      "execution_count": null,
      "outputs": []
    },
    {
      "cell_type": "code",
      "source": [
        "joblib.dump(knn_new,open(filename,'wb'))\n",
        "joblib.dump(scaler,open('mscaler.pkl','wb'))"
      ],
      "metadata": {
        "id": "NuBkY5p1WDAR"
      },
      "execution_count": null,
      "outputs": []
    },
    {
      "cell_type": "code",
      "source": [
        "!pip install streamlit"
      ],
      "metadata": {
        "id": "vF_foj_w2wC-"
      },
      "execution_count": null,
      "outputs": []
    },
    {
      "cell_type": "code",
      "source": [
        "!wget -q -O - - ipv4.icanhazip.com"
      ],
      "metadata": {
        "id": "8MQcJBcG3pT_"
      },
      "execution_count": null,
      "outputs": []
    },
    {
      "cell_type": "markdown",
      "source": [],
      "metadata": {
        "id": "8fmTwnx6A_Ht"
      }
    },
    {
      "cell_type": "code",
      "source": [
        "!streamlit run app.py & npx localtunnel --port 8501"
      ],
      "metadata": {
        "id": "t8I5VHvE36aB"
      },
      "execution_count": null,
      "outputs": []
    }
  ]
}